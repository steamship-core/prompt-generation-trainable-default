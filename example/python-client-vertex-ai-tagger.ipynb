{
 "cells": [
  {
   "cell_type": "markdown",
   "metadata": {},
   "source": [
    "# Python Client Use\n",
    "\n",
    "This notebook demonstrates simple use of this plugin via the Steamship client."
   ]
  },
  {
   "cell_type": "code",
   "execution_count": null,
   "metadata": {
    "pycharm": {
     "name": "#%%\n"
    }
   },
   "outputs": [],
   "source": [
    "!pip install --upgrade steamship==2.2.0b2"
   ]
  },
  {
   "cell_type": "code",
   "execution_count": null,
   "metadata": {
    "pycharm": {
     "name": "#%%\n"
    }
   },
   "outputs": [],
   "source": [
    "# NOTE!\n",
    "# You will likely want to set your own STEAMSHIP_PROFILE here, or change it to None!\n",
    "STEAMSHIP_PROFILE=\"staging\"\n",
    "\n",
    "# This should match the value found in the `handle` field of `steamship.json`\n",
    "PLUGIN_HANDLE=\"trainable-tagger-default\""
   ]
  },
  {
   "cell_type": "code",
   "execution_count": null,
   "metadata": {
    "pycharm": {
     "name": "#%%\n"
    }
   },
   "outputs": [],
   "source": [
    "# Create our client.\n",
    "from steamship import Steamship, PluginInstance, File\n",
    "ship = Steamship(profile=STEAMSHIP_PROFILE, workspace=\"hi-there\")\n",
    "from os import path\n",
    "\n",
    "print(f\"You are operating within workspace: {ship.config.workspace_handle or 'default'}\")"
   ]
  },
  {
   "cell_type": "code",
   "execution_count": null,
   "metadata": {
    "pycharm": {
     "name": "#%%\n"
    }
   },
   "outputs": [],
   "source": [
    "# Steamship plugins are designed to be configured at instantiation.\n",
    "# The resulting plugin (and it's configuration) then remain for repeated use.\n",
    "pi = ship.use_plugin(PLUGIN_HANDLE, config={\n",
    "    \"tag_kind\": \"TestLabel\",\n",
    "    \"single_or_multi_label\": \"single\"\n",
    "})\n",
    "\n",
    "print(f\"Your plugin handle is: {pi.handle}\")"
   ]
  },
  {
   "cell_type": "code",
   "execution_count": null,
   "metadata": {
    "pycharm": {
     "name": "#%%\n"
    }
   },
   "outputs": [],
   "source": [
    "# Upload a file with training data\n",
    "with open(path.join('..', 'test_data', 'spam-data.csv'), 'r') as f:\n",
    "    file = File.create(ship, content=f.read())"
   ]
  },
  {
   "cell_type": "code",
   "execution_count": null,
   "metadata": {
    "pycharm": {
     "name": "#%%\n"
    }
   },
   "outputs": [],
   "source": [
    "# Create a blockifier to parse the CSV file\n",
    "blockifier = ship.use_plugin('csv-blockifier', config={\n",
    "    \"text_column\": \"Message\",\n",
    "    \"tag_columns\": \"Category\",\n",
    "    \"tag_kind\": \"Category\"\n",
    "})\n",
    "print(f\"Your csv blockifier handle is: {blockifier.handle}\")"
   ]
  },
  {
   "cell_type": "code",
   "execution_count": null,
   "metadata": {
    "pycharm": {
     "name": "#%%\n"
    }
   },
   "outputs": [],
   "source": [
    "blockify_task = file.blockify(blockifier.handle)\n",
    "print(f\"Your blockify task ID is {blockify_task.task_id}\")"
   ]
  },
  {
   "cell_type": "code",
   "execution_count": null,
   "metadata": {
    "pycharm": {
     "name": "#%%\n"
    }
   },
   "outputs": [],
   "source": [
    "# All plugin operations are asynchronous.\n",
    "# Calling .wait() will wait until a timeout is reached or until we have a result\n",
    "blockify_task.wait()"
   ]
  },
  {
   "cell_type": "code",
   "execution_count": null,
   "metadata": {
    "pycharm": {
     "name": "#%%\n"
    }
   },
   "outputs": [],
   "source": [
    "# Now we create an exporter, which will provide us data for training\n",
    "exporter = ship.use_plugin('signed-url-exporter')"
   ]
  },
  {
   "cell_type": "code",
   "execution_count": null,
   "metadata": {
    "pycharm": {
     "is_executing": true,
     "name": "#%%\n"
    }
   },
   "outputs": [],
   "source": [
    "from steamship.plugin.inputs.training_parameter_plugin_input import TrainingParameterPluginInput\n",
    "from steamship.plugin.inputs.export_plugin_input import ExportPluginInput\n",
    "\n",
    "training_request = TrainingParameterPluginInput(\n",
    "    plugin_instance=pi.handle,\n",
    "    export_plugin_input=ExportPluginInput(\n",
    "        plugin_instance=exporter.handle, type=\"file\", query=f'blocktag and kind \"Category\"',\n",
    "    ),\n",
    "    training_params={},\n",
    ")\n",
    "train_response = pi.train(training_request)"
   ]
  },
  {
   "cell_type": "code",
   "execution_count": null,
   "metadata": {
    "pycharm": {
     "is_executing": true,
     "name": "#%%\n"
    }
   },
   "outputs": [],
   "source": [
    "print(pi.client.config.space_handle)\n",
    "print(pi.handle)"
   ]
  },
  {
   "cell_type": "markdown",
   "metadata": {},
   "source": [
    "It will take about 5 hours for training to complete fully. Then you can run:"
   ]
  },
  {
   "cell_type": "code",
   "execution_count": null,
   "metadata": {
    "pycharm": {
     "name": "#%%\n"
    }
   },
   "outputs": [],
   "source": [
    "tag_task = pi.tag(\"I like how easy this is!\")\n",
    "print(f\"Your task ID is {tag_task.task.task_id}\")"
   ]
  },
  {
   "cell_type": "code",
   "execution_count": null,
   "metadata": {
    "pycharm": {
     "name": "#%%\n"
    }
   },
   "outputs": [],
   "source": [
    "tag_task.wait()"
   ]
  }
 ],
 "metadata": {
  "kernelspec": {
   "display_name": "Python 3",
   "language": "python",
   "name": "python3"
  },
  "language_info": {
   "codemirror_mode": {
    "name": "ipython",
    "version": 2
   },
   "file_extension": ".py",
   "mimetype": "text/x-python",
   "name": "python",
   "nbconvert_exporter": "python",
   "pygments_lexer": "ipython2",
   "version": "2.7.6"
  }
 },
 "nbformat": 4,
 "nbformat_minor": 0
}
